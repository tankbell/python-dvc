{
 "cells": [
  {
   "cell_type": "code",
   "execution_count": 1,
   "metadata": {
    "execution": {
     "iopub.execute_input": "2020-04-19T23:44:22.586590Z",
     "iopub.status.busy": "2020-04-19T23:44:22.586058Z",
     "iopub.status.idle": "2020-04-19T23:44:22.997358Z",
     "shell.execute_reply": "2020-04-19T23:44:22.996815Z"
    },
    "papermill": {
     "duration": 0.422916,
     "end_time": "2020-04-19T23:44:22.997458",
     "exception": false,
     "start_time": "2020-04-19T23:44:22.574542",
     "status": "completed"
    },
    "tags": []
   },
   "outputs": [],
   "source": [
    "import pandas as pd"
   ]
  },
  {
   "cell_type": "code",
   "execution_count": 2,
   "metadata": {
    "execution": {
     "iopub.execute_input": "2020-04-19T23:44:23.010185Z",
     "iopub.status.busy": "2020-04-19T23:44:23.009718Z",
     "iopub.status.idle": "2020-04-19T23:44:23.017218Z",
     "shell.execute_reply": "2020-04-19T23:44:23.016692Z"
    },
    "papermill": {
     "duration": 0.01497,
     "end_time": "2020-04-19T23:44:23.017311",
     "exception": false,
     "start_time": "2020-04-19T23:44:23.002341",
     "status": "completed"
    },
    "tags": []
   },
   "outputs": [],
   "source": [
    "iris = pd.read_csv(\n",
    "    \"../data/iris.data\",\n",
    ")"
   ]
  },
  {
   "cell_type": "code",
   "execution_count": 3,
   "metadata": {
    "execution": {
     "iopub.execute_input": "2020-04-19T23:44:23.028420Z",
     "iopub.status.busy": "2020-04-19T23:44:23.027978Z",
     "iopub.status.idle": "2020-04-19T23:44:23.029633Z",
     "shell.execute_reply": "2020-04-19T23:44:23.029981Z"
    },
    "papermill": {
     "duration": 0.008524,
     "end_time": "2020-04-19T23:44:23.030075",
     "exception": false,
     "start_time": "2020-04-19T23:44:23.021551",
     "status": "completed"
    },
    "tags": []
   },
   "outputs": [],
   "source": [
    "iris.columns = [\n",
    "    \"sepal_length\",\n",
    "    \"sepal_width\",\n",
    "    \"petal_length\",\n",
    "    \"petal_width\",\n",
    "    \"class\",\n",
    "]"
   ]
  },
  {
   "cell_type": "code",
   "execution_count": 4,
   "metadata": {
    "execution": {
     "iopub.execute_input": "2020-04-19T23:44:23.043064Z",
     "iopub.status.busy": "2020-04-19T23:44:23.039892Z",
     "iopub.status.idle": "2020-04-19T23:44:23.045408Z",
     "shell.execute_reply": "2020-04-19T23:44:23.045933Z"
    },
    "papermill": {
     "duration": 0.012144,
     "end_time": "2020-04-19T23:44:23.046033",
     "exception": false,
     "start_time": "2020-04-19T23:44:23.033889",
     "status": "completed"
    },
    "tags": []
   },
   "outputs": [],
   "source": [
    "iris_virginica = iris[\n",
    "    iris[\"class\"] == \"Iris-virginica\"\n",
    "]"
   ]
  },
  {
   "cell_type": "code",
   "execution_count": 5,
   "metadata": {
    "execution": {
     "iopub.execute_input": "2020-04-19T23:44:23.057830Z",
     "iopub.status.busy": "2020-04-19T23:44:23.057386Z",
     "iopub.status.idle": "2020-04-19T23:44:23.059202Z",
     "shell.execute_reply": "2020-04-19T23:44:23.059608Z"
    },
    "papermill": {
     "duration": 0.009604,
     "end_time": "2020-04-19T23:44:23.059714",
     "exception": false,
     "start_time": "2020-04-19T23:44:23.050110",
     "status": "completed"
    },
    "tags": []
   },
   "outputs": [],
   "source": [
    "assert len(iris_virginica) == 50"
   ]
  },
  {
   "cell_type": "code",
   "execution_count": 6,
   "metadata": {
    "execution": {
     "iopub.execute_input": "2020-04-19T23:44:23.070884Z",
     "iopub.status.busy": "2020-04-19T23:44:23.070426Z",
     "iopub.status.idle": "2020-04-19T23:44:23.075576Z",
     "shell.execute_reply": "2020-04-19T23:44:23.075992Z"
    },
    "papermill": {
     "duration": 0.012245,
     "end_time": "2020-04-19T23:44:23.076101",
     "exception": false,
     "start_time": "2020-04-19T23:44:23.063856",
     "status": "completed"
    },
    "tags": []
   },
   "outputs": [],
   "source": [
    "iris_virginica.to_csv(\n",
    "    \"../interim/virginica.csv\",\n",
    "    index=False,\n",
    ")"
   ]
  },
  {
   "cell_type": "code",
   "execution_count": null,
   "metadata": {
    "papermill": {
     "duration": 0.004349,
     "end_time": "2020-04-19T23:44:23.085774",
     "exception": false,
     "start_time": "2020-04-19T23:44:23.081425",
     "status": "completed"
    },
    "tags": []
   },
   "outputs": [],
   "source": []
  }
 ],
 "metadata": {
  "kernelspec": {
   "display_name": "Python 3",
   "language": "python",
   "name": "python3"
  },
  "language_info": {
   "codemirror_mode": {
    "name": "ipython",
    "version": 3
   },
   "file_extension": ".py",
   "mimetype": "text/x-python",
   "name": "python",
   "nbconvert_exporter": "python",
   "pygments_lexer": "ipython3",
   "version": "3.6.3"
  },
  "papermill": {
   "duration": 1.441678,
   "end_time": "2020-04-19T23:44:23.196149",
   "environment_variables": {},
   "exception": null,
   "input_path": "-",
   "output_path": "reports/notebooks/subset_class.ipynb",
   "parameters": {},
   "start_time": "2020-04-19T23:44:21.754471",
   "version": "2.1.0"
  }
 },
 "nbformat": 4,
 "nbformat_minor": 4
}